{
 "cells": [
  {
   "cell_type": "code",
   "execution_count": 1,
   "id": "7420e170",
   "metadata": {},
   "outputs": [],
   "source": [
    "import numpy as np\n",
    "import matplotlib.pyplot as plt\n",
    "import pandas as pd"
   ]
  },
  {
   "cell_type": "markdown",
   "id": "016f394b",
   "metadata": {},
   "source": [
    "## The data in question can be plotted against one another based on previous bibliography to see how they look like. The limits of the classification can also be plotted to see if they make sense, as well as the new generated data from the SMOTE algorithm to view them along with the read data."
   ]
  },
  {
   "cell_type": "code",
   "execution_count": null,
   "id": "eaa12c55",
   "metadata": {},
   "outputs": [],
   "source": [
    "data0 = pd.read_csv(\"data 1.txt\" , sep=\" \", header = None)\n",
    "data0.columns = [\"JH\", \"HK\", \"KW1\", \"W1W2\", \"W2W3\", \"W3W4\", \"W1W4\", \"JW1\" , \"HW2\", \"KW3\" ]\n",
    "\n",
    "data1 = pd.read_csv(\"data 2.txt\" , sep=\" \", header = None)\n",
    "data1.columns = [\"JH\", \"HK\", \"KW1\", \"W1W2\", \"W2W3\", \"W3W4\", \"W1W4\", \"JW1\" , \"HW2\", \"KW3\" ]\n",
    "\n",
    "data2 = pd.read_csv(\"data 3.txt\" , sep=\" \", header = None)\n",
    "data2.columns = [\"JH\", \"HK\", \"KW1\", \"W1W2\", \"W2W3\", \"W3W4\", \"W1W4\", \"JW1\" , \"HW2\", \"KW3\" ]\n",
    "#... continued for all wanted data files\n",
    "\n",
    "#Just a quick look to see how the data look like\n",
    "a0 = data0[\"JH\"]\n",
    "a0 = np.array(a0)\n",
    "b0 = data0['W1W4']\n",
    "b0 = np.array(b0)\n",
    "\n",
    "a1 = data1[\"JH\"]\n",
    "a1 = np.array(a1)\n",
    "b1 = data1['W1W4']\n",
    "b1 = np.array(b1)\n",
    "\n",
    "a2 = data2[\"JH\"]\n",
    "a2 = np.array(a2)\n",
    "b2 = data2['W1W4']\n",
    "b2 = np.array(b2)\n",
    "\n",
    "plt.scatter(b0,a0, c='red', marker='*', label=\"PNe\")\n",
    "plt.scatter(b1,a1, c='blue', marker='.', label=\"CV\")\n",
    "plt.scatter(b2,a2, c='green', marker='x', label=\"Syst\")\n",
    "\n",
    "#! If we have the values for the limits of the classification we can plot them as well to see how they look like\n",
    "# plt.axvline(x=1.433, color='black')\n",
    "# plt.axhline(y=1.403, color='black')\n",
    "\n",
    "plt.xlabel(\"W1W4\")\n",
    "plt.ylabel(\"JH\")\n",
    "plt.title(\"original data\")\n",
    "plt.legend(loc='upper left')\n",
    "\n",
    "plt.show()"
   ]
  }
 ],
 "metadata": {
  "kernelspec": {
   "display_name": "Python 3",
   "language": "python",
   "name": "python3"
  },
  "language_info": {
   "codemirror_mode": {
    "name": "ipython",
    "version": 3
   },
   "file_extension": ".py",
   "mimetype": "text/x-python",
   "name": "python",
   "nbconvert_exporter": "python",
   "pygments_lexer": "ipython3",
   "version": "3.11.4"
  }
 },
 "nbformat": 4,
 "nbformat_minor": 5
}
