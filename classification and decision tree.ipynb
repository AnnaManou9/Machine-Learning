{
 "cells": [
  {
   "cell_type": "code",
   "execution_count": 1,
   "id": "4a37edce",
   "metadata": {},
   "outputs": [],
   "source": [
    "from collections import Counter\n",
    "from sklearn.datasets import make_classification\n",
    "from imblearn.over_sampling import SMOTE \n",
    "import numpy as np\n",
    "import matplotlib.pyplot as plt\n",
    "from sklearn.tree import DecisionTreeClassifier\n",
    "from sklearn.tree import plot_tree\n",
    "from sklearn.model_selection import train_test_split\n",
    "import pandas as pd\n",
    "from sklearn import svm, datasets\n",
    "from sklearn.tree import DecisionTreeClassifier\n",
    "from sklearn.svm import SVC\n",
    "from sklearn.metrics import confusion_matrix, ConfusionMatrixDisplay\n",
    "from sklearn.ensemble import RandomForestClassifier\n",
    "from pathlib import Path"
   ]
  },
  {
   "cell_type": "markdown",
   "id": "fc613a72",
   "metadata": {},
   "source": [
    "## After our data files are ready, we can perform the classification algorithm."
   ]
  },
  {
   "cell_type": "code",
   "execution_count": null,
   "id": "325b7434",
   "metadata": {},
   "outputs": [],
   "source": [
    "# First data file read and label\n",
    "data0 = pd.read_csv(Path(r'data file 1.txt') , sep=\" \", header = None)\n",
    "data0.columns = ['JH', 'HK', 'KW1', 'W1W2', 'W2W3', 'W3W4', 'W1W4', 'JW1', 'HW2', 'KW3']\n",
    "df0 = pd.DataFrame(data0)\n",
    "zerosList = []\n",
    "for i in range(0,len(df0)):\n",
    "    zerosList.append(0)\n",
    "\n",
    "label0 = zerosList\n",
    "df0['label0'] = label0\n",
    "f0 = df0.set_index('label0')\n",
    "\n",
    "# Second data file read and label\n",
    "data1 = pd.read_csv(Path(r'data file 2.txt') , sep=\" \", header = None)\n",
    "data1.columns = ['JH', 'HK', 'KW1', 'W1W2', 'W2W3', 'W3W4', 'W1W4', 'JW1', 'HW2', 'KW3']\n",
    "df1 = pd.DataFrame(data1)\n",
    "onesList = []\n",
    "for j in range(0,len(df1)):\n",
    "    onesList.append(1)\n",
    "\n",
    "label1 = onesList \n",
    "df1['label1'] = label1\n",
    "f1 = df1.set_index('label1')\n",
    "\n",
    "# print(len(data0)) #This is a check on the length of the data files in case we want to tackle the imbalance problem\n",
    "# print(len(data1))"
   ]
  },
  {
   "cell_type": "code",
   "execution_count": null,
   "id": "1836430c",
   "metadata": {},
   "outputs": [],
   "source": [
    "# Merging the two data files labeling them accordingly\n",
    "final0 = f0.join(f1, how='outer', lsuffix='GroupA', rsuffix='GroupB')\n",
    "final1 = f1.join(f1, how='outer', lsuffix='GroupA', rsuffix='GroupB')\n",
    "merge = [f0, f1]\n",
    "fin = pd.concat(merge)\n",
    "final = fin.loc[(fin!=0).any(axis=1)]\n",
    "\n",
    "X = final\n",
    "y = final.index\n",
    "\n",
    "#! In case we want to tackle the imbalance problem we can use the SMOTE algorithm to resample the data. The algorithm creates synthetic data \n",
    "#! points to balance the classes.\n",
    "\n",
    "d0, d1 = SMOTE().fit_resample(X, y)"
   ]
  },
  {
   "cell_type": "code",
   "execution_count": null,
   "id": "7cb79cce",
   "metadata": {},
   "outputs": [],
   "source": [
    "#Decision Tree Classifier, visualization, and saving the model\n",
    "X_train, X_test, y_train, y_test = train_test_split(d0, d1, random_state=0, shuffle=True, test_size=0.2, train_size=0.8)\n",
    "clf = DecisionTreeClassifier(splitter='best', max_depth=3, random_state=0)\n",
    "clf.fit(X_train, y_train)\n",
    "plt.figure(figsize=(15,15))\n",
    "plot_tree(clf, filled=False, rounded=True, feature_names=final.columns)\n",
    "\n",
    "# plt.savefig(Path(r'C:\\Users\\anna_\\OneDrive\\Υπολογιστής\\Projects\\NOA\\figures\\YSOplus.pdf'), dpi=200)\n",
    "plt.show()"
   ]
  },
  {
   "cell_type": "code",
   "execution_count": null,
   "id": "32611e47",
   "metadata": {},
   "outputs": [],
   "source": [
    "#Confusion matrix and model saving to view the results and the accuracy of the model\n",
    "class_names = data0.columns\n",
    "clf = SVC(random_state=0)\n",
    "clf.fit(X_train, y_train)\n",
    "predictions = clf.predict(X_test)\n",
    "cm = confusion_matrix(y_test, predictions, labels=clf.classes_)\n",
    "disp = ConfusionMatrixDisplay(confusion_matrix=cm, display_labels=clf.classes_)\n",
    "disp.plot()\n",
    "\n",
    "# plt.savefig(Path(r'C:\\Users\\anna_\\OneDrive\\Υπολογιστής\\Projects\\NOA\\figures\\mYSOplus.pdf'), dpi=200)\n",
    "plt.show()"
   ]
  },
  {
   "cell_type": "markdown",
   "id": "595975c0",
   "metadata": {},
   "source": [
    "## Instead of the Decision Tree we can also do the Random Forest Classifier "
   ]
  },
  {
   "cell_type": "code",
   "execution_count": null,
   "id": "47da79e6",
   "metadata": {},
   "outputs": [],
   "source": [
    "#Random Forest Classifier and confusion matrix on the same data as above\n",
    "clf = RandomForestClassifier(max_depth=3, random_state=0)\n",
    "clf.fit(d0, d1)\n",
    "predictions = clf.predict(X_test)\n",
    "cm = confusion_matrix(y_test, predictions, labels=clf.classes_)\n",
    "disp = ConfusionMatrixDisplay(confusion_matrix=cm, display_labels=clf.classes_)\n",
    "disp.plot()\n",
    "plt.show()"
   ]
  }
 ],
 "metadata": {
  "kernelspec": {
   "display_name": "Python 3",
   "language": "python",
   "name": "python3"
  },
  "language_info": {
   "codemirror_mode": {
    "name": "ipython",
    "version": 3
   },
   "file_extension": ".py",
   "mimetype": "text/x-python",
   "name": "python",
   "nbconvert_exporter": "python",
   "pygments_lexer": "ipython3",
   "version": "3.11.4"
  }
 },
 "nbformat": 4,
 "nbformat_minor": 5
}
