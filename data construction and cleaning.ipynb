{
 "cells": [
  {
   "cell_type": "code",
   "execution_count": 2,
   "id": "5d44405a",
   "metadata": {},
   "outputs": [],
   "source": [
    "import pandas as pd\n",
    "import numpy as np"
   ]
  },
  {
   "cell_type": "markdown",
   "id": "e72e253b",
   "metadata": {},
   "source": [
    "## Create the needed physical parameters (colours) from the initial files."
   ]
  },
  {
   "cell_type": "code",
   "execution_count": null,
   "id": "71c49fcb",
   "metadata": {},
   "outputs": [],
   "source": [
    "data = pd.read_csv(\"initial file.txt\" , sep=\" \", header = None)\n",
    "data.columns = [\"J\", \"σJ\", \"H\", \"σH\", \"K\", \"σK\", \"W1\", \"σW1\", \"W2\", \"σW2\", \"W3\", \"σW3\", \"W4\", \"σW4\"]\n",
    "\n",
    "final_data = data\n",
    "out_file= \"data.txt\"  #file pou tha apothikeutoun \n",
    "df = pd.DataFrame(data=data)\n",
    "df.columns=['J', 'σJ', 'H', 'σH', 'K', 'σK', 'W1', 'σW1', 'W2', 'σW2', 'W3', 'σW3', 'W4', 'σW4']\n",
    "df.to_csv(\"C:\\\\Users\\\\User\\\\Desktop\\\\.txt\", sep = \" \", header = 'values')\n",
    "\n",
    "list_of_floats =[]\n",
    "\n",
    "J = data[\"J\"]\n",
    "J_head = np.array(J)\n",
    "σJ = data[\"σJ\"]\n",
    "σJ_head = np.array(σJ)\n",
    "H = data[\"H\"]\n",
    "H_head = np.array(H)\n",
    "σH = data[\"σH\"]\n",
    "σH_head = np.array(σH)\n",
    "K = data[\"K\"]\n",
    "K_head = np.array(K)\n",
    "σK = data[\"σK\"]\n",
    "σK_head = np.array(σK)\n",
    "W1 = data[\"W1\"]\n",
    "W1_head = np.array(W1)\n",
    "σW1 = data[\"σW1\"]\n",
    "σW1_head = np.array(σW1)\n",
    "W2 = data[\"W2\"]\n",
    "W2_head = np.array(W2)\n",
    "σW2 = data[\"σW2\"]\n",
    "σW2_head = np.array(σW2)\n",
    "W3 = data[\"W3\"]\n",
    "W3_head = np.array(W3)\n",
    "σW3 = data[\"σW3\"]\n",
    "σW3_head = np.array(σW3)\n",
    "W4 = data[\"W4\"]\n",
    "W4_head = np.array(W4)\n",
    "σW4 = data[\"σW4\"]\n",
    "σW4_head = np.array(σW4)         #we need to make arrays from the columns of the dataframe\n",
    "\n",
    "# The ones we are interested in\n",
    "JH = (J_head-H_head).T #the .T is for making the array a column vector\n",
    "HK = (H_head-K_head).T\n",
    "KW1 = (K_head-W1_head)\n",
    "W1W2 = (W1_head-W2_head)\n",
    "W2W3 = (W2_head-W3_head)\n",
    "W3W4 = (W3_head-W4_head)\n",
    "W1W4 = (W1_head-W4_head)\n",
    "JW1 = (J_head-W1_head)\n",
    "HW2 = (H_head-W2_head)\n",
    "KW3 = (K_head-W3_head)\n",
    "\n",
    "#f = np.column_stack((JH, HK, KW1, W1W2, W2W3, W3W4, W1W4, JW1, HW2, KW3))\n",
    "f = np.column_stack((JH, HK, KW1, W1W2, W2W3, JW1, HW2, KW3))\n",
    "np.savetxt(\"out file\" + \".txt\", np.c_[f])"
   ]
  },
  {
   "cell_type": "markdown",
   "id": "3e1b2be2",
   "metadata": {},
   "source": [
    "## In case we have negative values in the errors, we have to remove both the error and the corresponding value. "
   ]
  },
  {
   "cell_type": "code",
   "execution_count": null,
   "id": "1ceb1c9e",
   "metadata": {},
   "outputs": [],
   "source": [
    "for n in range(0,len(J_head)):\n",
    "    if ((σJ[n]<0) & (σH[n]<0) & (σK[n]<0) & (σW1[n]<0) & (σW2[n]<0) & (σW3[n]<0) & (σW4[n]<0)):\n",
    "        J_head.remove(J_head[n])\n",
    "        σJ_head.remove(σJ_head[n])\n",
    "        H_head.remove(H_head[n])\n",
    "        σΗ_head.remove(σΗ_head[n])\n",
    "        Κ_head.remove(Κ_head[n])\n",
    "        σΚ_head.remove(σΚ_head[n])\n",
    "        W1_head.remove(W1_head[n])\n",
    "        σW1_head.remove(σW1_head[n])\n",
    "        W2_head.remove(W2_head[n])\n",
    "        σW2_head.remove(σW2_head[n])\n",
    "        W3_head.remove(W3_head[n])\n",
    "        σW3_head.remove(σW3_head[n])\n",
    "        W4_head.remove(W4_head[n])\n",
    "        σW4_head.remove(σW4_head[n])\n",
    "\t\n",
    "np.savetxt(\"final file\" + \".txt\", [JH, HK, KW1, W1W2,W2W3, W3W4, W1W4, JW1, HW2, KW3])"
   ]
  }
 ],
 "metadata": {
  "kernelspec": {
   "display_name": "Python 3",
   "language": "python",
   "name": "python3"
  },
  "language_info": {
   "codemirror_mode": {
    "name": "ipython",
    "version": 3
   },
   "file_extension": ".py",
   "mimetype": "text/x-python",
   "name": "python",
   "nbconvert_exporter": "python",
   "pygments_lexer": "ipython3",
   "version": "3.11.4"
  }
 },
 "nbformat": 4,
 "nbformat_minor": 5
}
