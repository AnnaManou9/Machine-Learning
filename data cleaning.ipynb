{
 "cells": [
  {
   "cell_type": "markdown",
   "id": "d39b9e9b",
   "metadata": {},
   "source": [
    "##Scripts used to clean and select the data based on physical parameters"
   ]
  }
 ],
 "metadata": {
  "language_info": {
   "name": "python"
  }
 },
 "nbformat": 4,
 "nbformat_minor": 5
}
